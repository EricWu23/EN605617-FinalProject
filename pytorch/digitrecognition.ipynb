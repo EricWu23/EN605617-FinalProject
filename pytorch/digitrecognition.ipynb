{
 "cells": [
  {
   "cell_type": "markdown",
   "metadata": {},
   "source": [
    "# EN605.617 Introduction to GPU programming: Final Project\n",
    "\n",
    "## Yujiang Wu 04/30/2022\n",
    "\n",
    "### The goal of this project is to call CUDA defined data preprocessing function from pytorch and compare its timing with data preprocessing directly implemented with pure pytorch"
   ]
  },
  {
   "cell_type": "markdown",
   "metadata": {},
   "source": [
    "Set up environment"
   ]
  },
  {
   "cell_type": "code",
   "execution_count": 1,
   "metadata": {},
   "outputs": [],
   "source": [
    "import torch\n",
    "import numpy as np"
   ]
  },
  {
   "cell_type": "markdown",
   "metadata": {},
   "source": [
    "Preparing the Dataset"
   ]
  },
  {
   "cell_type": "code",
   "execution_count": 2,
   "metadata": {},
   "outputs": [],
   "source": [
    "def load_mnist(path, kind='train'):\n",
    "    from numpy import fromfile, uint8\n",
    "    import os\n",
    "    import struct\n",
    "    \n",
    "    labels_path = os.path.join(path, '%s-labels-idx1-ubyte' % kind)\n",
    "    images_path = os.path.join(path, '%s-images-idx3-ubyte' % kind)\n",
    "    with open(labels_path, 'rb') as lbpath:\n",
    "        magic, n = struct.unpack('>II', lbpath.read(8))\n",
    "        labels = fromfile(lbpath, dtype=uint8)\n",
    "        with open(images_path, 'rb') as imgpath:\n",
    "            magic, num, rows, cols = struct.unpack(\">IIII\",imgpath.read(16))\n",
    "            images = fromfile(imgpath, dtype=uint8).reshape(len(labels), 784)\n",
    "            #images = ((images / 255.) - .5) * 2\n",
    "    return images, labels"
   ]
  },
  {
   "cell_type": "code",
   "execution_count": 3,
   "metadata": {},
   "outputs": [
    {
     "name": "stdout",
     "output_type": "stream",
     "text": [
      "Rows= 60000, columns= 784\n",
      "Rows= 10000, columns= 784\n"
     ]
    }
   ],
   "source": [
    "X_train, y_train = load_mnist('../data', kind='train')\n",
    "print(f'Rows= {X_train.shape[0]}, columns= {X_train.shape[1]}')\n",
    "\n",
    "X_test, y_test = load_mnist('../data', kind='t10k')\n",
    "print(f'Rows= {X_test.shape[0]}, columns= {X_test.shape[1]}')"
   ]
  },
  {
   "cell_type": "markdown",
   "metadata": {},
   "source": [
    "The data is read in as numpy array. There are 60000 training samples and 10000 testing samples."
   ]
  },
  {
   "cell_type": "code",
   "execution_count": 4,
   "metadata": {},
   "outputs": [
    {
     "name": "stdout",
     "output_type": "stream",
     "text": [
      "Xtrain:  data type= <class 'numpy.ndarray'>, data shape= (60000, 784), element type=uint8\n",
      "ytrain:  data type= <class 'numpy.ndarray'>, data shape= (60000,), element type=uint8\n",
      "Xtrain:  data type= <class 'numpy.ndarray'>, data shape= (10000, 784)\n",
      "ytrain:  data type= <class 'numpy.ndarray'>, data shape= (10000,)\n"
     ]
    }
   ],
   "source": [
    "print(f'Xtrain:  data type= {type(X_train)}, data shape= {X_train.shape}, element type={X_train.dtype}')\n",
    "\n",
    "print(f'ytrain:  data type= {type(y_train)}, data shape= {y_train.shape}, element type={y_train.dtype}')\n",
    "\n",
    "print(f'Xtrain:  data type= {type(X_test)}, data shape= {X_test.shape}')\n",
    "\n",
    "print(f'ytrain:  data type= {type(y_test)}, data shape= {y_test.shape}')"
   ]
  },
  {
   "cell_type": "markdown",
   "metadata": {},
   "source": [
    "Convert the numpy array into tensor since we will be using pytorch"
   ]
  },
  {
   "cell_type": "code",
   "execution_count": 5,
   "metadata": {},
   "outputs": [],
   "source": [
    "X_train_tensor_raw=torch.from_numpy(X_train).type(torch.float32)\n",
    "y_train_tensor_raw=torch.from_numpy(y_train)\n",
    "X_test_tensor_raw=torch.from_numpy(X_test).type(torch.float32)\n",
    "y_test_tensor_raw=torch.from_numpy(y_test)"
   ]
  },
  {
   "cell_type": "code",
   "execution_count": 6,
   "metadata": {},
   "outputs": [
    {
     "name": "stdout",
     "output_type": "stream",
     "text": [
      "x_train_tensor:  data type= <class 'torch.Tensor'>, data shape= torch.Size([60000, 784]), element type=torch.float32\n",
      "y_train_tensor:  data type= <class 'torch.Tensor'>, data shape= torch.Size([60000]), element type=torch.uint8\n",
      "x_train_tensor:  data type= <class 'torch.Tensor'>, data shape=  torch.Size([10000, 784]), element type=torch.float32\n",
      "y_train_tensor:  data type= <class 'torch.Tensor'>, data shape= torch.Size([10000]), element type=torch.uint8\n"
     ]
    }
   ],
   "source": [
    "print(f'x_train_tensor:  data type= {type(X_train_tensor_raw)}, data shape= {X_train_tensor_raw.size()}, element type={X_train_tensor_raw.dtype}')\n",
    "print(f'y_train_tensor:  data type= {type(y_train_tensor_raw)}, data shape= {y_train_tensor_raw.size()}, element type={y_train_tensor_raw.dtype}')\n",
    "print(f'x_train_tensor:  data type= {type(X_test_tensor_raw)}, data shape=  {X_test_tensor_raw.size()}, element type={X_test_tensor_raw.dtype}')\n",
    "print(f'y_train_tensor:  data type= {type(y_test_tensor_raw)}, data shape= {y_test_tensor_raw.size()}, element type={y_test_tensor_raw.dtype}')"
   ]
  },
  {
   "cell_type": "code",
   "execution_count": 7,
   "metadata": {},
   "outputs": [
    {
     "name": "stdout",
     "output_type": "stream",
     "text": [
      "Xtrain:  Max= 255, Min= 0,data type= <class 'numpy.ndarray'>\n",
      "X_train_tensor:  Max= 255.0, Min= 0.0,data type= <class 'torch.Tensor'>\n"
     ]
    }
   ],
   "source": [
    "print(f'Xtrain:  Max= {np.amax(X_train)}, Min= {np.amin(X_train)},data type= {type(X_train)}')\n",
    "print(f'X_train_tensor:  Max= {torch.max(X_train_tensor_raw)}, Min= {torch.min(X_train_tensor_raw)},data type= {type(X_train_tensor_raw)}')"
   ]
  },
  {
   "cell_type": "markdown",
   "metadata": {},
   "source": [
    "x_train_tensor contains 60000 training samples. Each sample is a flat vector containing 784 pixels. Each pixel is a number between 0 and 255. \n",
    "The data has to be preprocessed such that they are between -1 and 1. We have to do this operation 60000 times for the trainig set and another 10000 times for the testing set.\n",
    "Thus, it is a perfect application for data parallelism on GPU using cuda.\n",
    "Each cuda thread needs to perform\n",
    "  x=max(min(((x/255.0)-0.5)*2,1),-1)\n",
    "\n",
    "And We are going to write a custom CUDA kernel to do this task and call it in python using pytorch."
   ]
  },
  {
   "cell_type": "markdown",
   "metadata": {},
   "source": [
    "## Custom CUDA Function for image preprocessing"
   ]
  },
  {
   "cell_type": "code",
   "execution_count": 8,
   "metadata": {},
   "outputs": [
    {
     "name": "stdout",
     "output_type": "stream",
     "text": [
      "1.11.0+cu113\n"
     ]
    }
   ],
   "source": [
    "print(torch.__version__)"
   ]
  },
  {
   "cell_type": "markdown",
   "metadata": {},
   "source": [
    "Now, it is time to write a custom CUDA Function for image preprocessing"
   ]
  },
  {
   "cell_type": "markdown",
   "metadata": {},
   "source": [
    "Load our custome CUDA libary by JIT option"
   ]
  },
  {
   "cell_type": "code",
   "execution_count": 9,
   "metadata": {},
   "outputs": [],
   "source": [
    "from torch.utils.cpp_extension import load\n",
    "cuda_module = load(name=\"grayscaleimagenormalization\",\n",
    "                    extra_include_paths=[\"../include\"],\n",
    "                    sources=[\"grayscaleimagenormalization_ops.cpp\", \"../kernel/grayscaleimagenormalization_kernel.cu\"],\n",
    "                    verbose=False)"
   ]
  },
  {
   "cell_type": "markdown",
   "metadata": {},
   "source": [
    "By default, these tensors are on the CPU, we use .to(device) to push it on to GPU"
   ]
  },
  {
   "cell_type": "code",
   "execution_count": 10,
   "metadata": {},
   "outputs": [
    {
     "name": "stdout",
     "output_type": "stream",
     "text": [
      "x_train_tensor:  device= cpu\n",
      "y_train_tensor:  device= cpu\n",
      "x_train_tensor:  device= cpu\n",
      "y_train_tensor:  device= cpu\n"
     ]
    }
   ],
   "source": [
    "print(f'x_train_tensor:  device= {X_train_tensor_raw.device}')\n",
    "print(f'y_train_tensor:  device= {y_train_tensor_raw.device}')\n",
    "print(f'x_train_tensor:  device= {X_test_tensor_raw.device}')\n",
    "print(f'y_train_tensor:  device= {y_test_tensor_raw.device}')"
   ]
  },
  {
   "cell_type": "code",
   "execution_count": 11,
   "metadata": {},
   "outputs": [],
   "source": [
    "device = 'cuda' if torch.cuda.is_available() else 'cpu'"
   ]
  },
  {
   "cell_type": "code",
   "execution_count": 12,
   "metadata": {},
   "outputs": [
    {
     "data": {
      "text/plain": [
       "'cuda'"
      ]
     },
     "execution_count": 12,
     "metadata": {},
     "output_type": "execute_result"
    }
   ],
   "source": [
    "device"
   ]
  },
  {
   "cell_type": "code",
   "execution_count": 13,
   "metadata": {},
   "outputs": [],
   "source": [
    "X_train_tensor_raw=X_train_tensor_raw.to('cpu')\n",
    "X_test_tensor_raw=X_test_tensor_raw.to(device)"
   ]
  },
  {
   "cell_type": "code",
   "execution_count": 14,
   "metadata": {},
   "outputs": [
    {
     "name": "stdout",
     "output_type": "stream",
     "text": [
      "x_train_tensor:  device= cpu\n",
      "X_test_tensor_raw:  device= cuda:0\n"
     ]
    }
   ],
   "source": [
    "print(f'x_train_tensor:  device= {X_train_tensor_raw.device}')\n",
    "print(f'X_test_tensor_raw:  device= {X_test_tensor_raw.device}')"
   ]
  },
  {
   "cell_type": "code",
   "execution_count": 15,
   "metadata": {},
   "outputs": [],
   "source": [
    "X_test_tensor_norm=torch.empty(X_test_tensor_raw.size(), dtype=X_test_tensor_raw.dtype,device=X_test_tensor_raw.device)"
   ]
  },
  {
   "cell_type": "code",
   "execution_count": 16,
   "metadata": {},
   "outputs": [
    {
     "data": {
      "text/plain": [
       "7840000"
      ]
     },
     "execution_count": 16,
     "metadata": {},
     "output_type": "execute_result"
    }
   ],
   "source": [
    "torch.numel(X_test_tensor_norm)"
   ]
  },
  {
   "cell_type": "code",
   "execution_count": 17,
   "metadata": {},
   "outputs": [],
   "source": [
    "cuda_module.torch_launch_grayscaleimagenormalization(X_test_tensor_norm,X_test_tensor_raw, torch.numel(X_test_tensor_norm))"
   ]
  },
  {
   "cell_type": "code",
   "execution_count": 18,
   "metadata": {},
   "outputs": [
    {
     "name": "stdout",
     "output_type": "stream",
     "text": [
      "X_test_tensor_norm: Shape: =torch.Size([10000, 784]), Max= 1.0, Min= -1.0\n"
     ]
    }
   ],
   "source": [
    "print(f'X_test_tensor_norm: Shape: ={X_test_tensor_norm.size()}, Max= {torch.max(X_test_tensor_norm)}, Min= {torch.min(X_test_tensor_norm)}')"
   ]
  },
  {
   "cell_type": "code",
   "execution_count": 19,
   "metadata": {},
   "outputs": [],
   "source": [
    "X_test_tensor_norm=X_test_tensor_norm.to(\"cpu\")#push it back for plotting"
   ]
  },
  {
   "cell_type": "markdown",
   "metadata": {},
   "source": [
    "View the last 6 samples in the normalized testing set"
   ]
  },
  {
   "cell_type": "code",
   "execution_count": 20,
   "metadata": {},
   "outputs": [
    {
     "data": {
      "image/png": "[encoded data removed]",
      "text/plain": [
       "<Figure size 432x288 with 6 Axes>"
      ]
     },
     "execution_count": 20,
     "metadata": {},
     "output_type": "execute_result"
    },
    {
     "data": {
      "image/png": "[encoded data removed]",
      "text/plain": [
       "<Figure size 432x288 with 6 Axes>"
      ]
     },
     "metadata": {},
     "output_type": "display_data"
    }
   ],
   "source": [
    "import matplotlib.pyplot as plt\n",
    "fig = plt.figure()\n",
    "for i in range(6):\n",
    "  plt.subplot(2,3,i+1)\n",
    "  plt.tight_layout()\n",
    "  plt.imshow(torch.reshape(X_test_tensor_norm[X_test_tensor_norm.size()[0]-1-i,:],(28,28)), cmap='gray', interpolation='none')\n",
    "  title_obj =plt.title(\"Ground Truth: {}\".format(y_test_tensor_raw[y_test_tensor_raw.size()[0]-1-i]))\n",
    "  plt.setp(title_obj, color='r') \n",
    "  plt.xticks([])\n",
    "  plt.yticks([])\n",
    "fig\n"
   ]
  },
  {
   "cell_type": "markdown",
   "metadata": {},
   "source": [
    "Now,we successfully \n",
    "1. wrote a kernel function in CUDA (grayscaleimagenormalization_kernel.cu)\n",
    "2. wrote the host side caller (grayscaleimagenormalization_kernel.cu,launch_grayscaleimagenormalization.h)\n",
    "3. wrote an python,C++ interfacing file (grayscaleimagenormalization_ops.cpp)\n",
    "4. compiled our custom cuda_module using JIT option\n",
    "5.  normalized the pixel of raw gray scale image,which is between [0,255], to a number between [-1,1]. "
   ]
  },
  {
   "cell_type": "markdown",
   "metadata": {},
   "source": [
    "##  Timing Comparison"
   ]
  },
  {
   "cell_type": "markdown",
   "metadata": {},
   "source": [
    "\n",
    "let's package into a function that do the following things if GPU is availiable\n",
    "1. set input tensor's device to cuda \n",
    "2. call custom kernel\n",
    "3. set the result tensor's device back to cpu\n",
    "\n",
    "And we want to time this code and comparing timing with the case where we just use the pure pytorch code to do the pixel normalization "
   ]
  },
  {
   "cell_type": "markdown",
   "metadata": {},
   "source": [
    "### Custom CUDA version "
   ]
  },
  {
   "cell_type": "code",
   "execution_count": 22,
   "metadata": {},
   "outputs": [],
   "source": [
    "def grayscaleimagenorm_cuda(origgrayimage):\n",
    "  if torch.cuda.is_available():\n",
    "    device='cuda'\n",
    "    origgrayimage=origgrayimage.to(device)\n",
    "    normgrayimage=origgrayimage\n",
    "    cuda_module.torch_launch_grayscaleimagenormalization(normgrayimage,origgrayimage, torch.numel(origgrayimage))\n",
    "    origgrayimage=origgrayimage.to('cpu')\n",
    "    normgrayimage=normgrayimage.to('cpu')\n",
    "    return normgrayimage\n",
    "  else:\n",
    "     print(\"GPU is not avaliable. Operation performed using CPU\")\n",
    "     normgrayimage=torch.clamp(((origgrayimage / 255.) - .5) * 2,min=-1.0,max=1.0)\n",
    "     return normgrayimage"
   ]
  },
  {
   "cell_type": "markdown",
   "metadata": {},
   "source": [
    "### Pure Pytorch tensor operates on CPU"
   ]
  },
  {
   "cell_type": "code",
   "execution_count": 23,
   "metadata": {},
   "outputs": [],
   "source": [
    "def grayscaleimagenorm_cpu(origgrayimage):\n",
    "  if origgrayimage.device.type == 'cpu':\n",
    "    normgrayimage=torch.clamp(((origgrayimage / 255.) - .5) * 2,min=-1.0,max=1.0)\n",
    "    return normgrayimage\n",
    "  else:\n",
    "     raise Exception(\"please pass in a tensor on the cpu\")"
   ]
  },
  {
   "cell_type": "markdown",
   "metadata": {},
   "source": [
    "### Pure Pytorch tensor operates on GPU"
   ]
  },
  {
   "cell_type": "code",
   "execution_count": 24,
   "metadata": {},
   "outputs": [],
   "source": [
    "def grayscaleimagenorm_gputorch(origgrayimage):\n",
    "  if torch.cuda.is_available():\n",
    "    device='cuda'\n",
    "    origgrayimage=origgrayimage.to(device)\n",
    "    normgrayimage=torch.clamp(((origgrayimage / 255.) - .5) * 2,min=-1.0,max=1.0)\n",
    "    origgrayimage=origgrayimage.to('cpu')\n",
    "    normgrayimage=normgrayimage.to('cpu')\n",
    "    return normgrayimage\n",
    "  else:\n",
    "     print(\"GPU is not avaliable. Operation performed using CPU\")\n",
    "     normgrayimage=torch.clamp(((origgrayimage / 255.) - .5) * 2,min=-1.0,max=1.0)\n",
    "     return normgrayimage"
   ]
  },
  {
   "cell_type": "code",
   "execution_count": 25,
   "metadata": {},
   "outputs": [],
   "source": [
    "def run_cuda():#function wrapper for testing custom CUDA\n",
    "  grayscaleimagenorm_cuda(X_train_tensor_raw)"
   ]
  },
  {
   "cell_type": "code",
   "execution_count": 26,
   "metadata": {},
   "outputs": [],
   "source": [
    "def run_torch_cpu():# function wrapper for testing pytorch cpu version\n",
    "  grayscaleimagenorm_cpu(X_train_tensor_raw)"
   ]
  },
  {
   "cell_type": "code",
   "execution_count": 27,
   "metadata": {},
   "outputs": [],
   "source": [
    "def run_torch_gpu():# function wrapper for testing pytorch gpu version\n",
    "  grayscaleimagenorm_gputorch(X_train_tensor_raw)"
   ]
  },
  {
   "cell_type": "markdown",
   "metadata": {},
   "source": [
    "Function that will help us time the GPU code correctly"
   ]
  },
  {
   "cell_type": "code",
   "execution_count": 28,
   "metadata": {},
   "outputs": [],
   "source": [
    "def show_time(func,ntest):\n",
    "    import time\n",
    "    times = list()\n",
    "    res = None\n",
    "    # GPU warm up\n",
    "    for _ in range(10):#this is only needed for JIT compilation\n",
    "        res = func()\n",
    "    for _ in range(ntest):\n",
    "        # sync the threads to get accurate cuda running time\n",
    "        torch.cuda.synchronize(device=\"cuda:0\")\n",
    "        start_time = time.time()\n",
    "        func()\n",
    "        torch.cuda.synchronize(device=\"cuda:0\")\n",
    "        end_time = time.time()\n",
    "        times.append((end_time-start_time)*1e6)\n",
    "    return times, res"
   ]
  },
  {
   "cell_type": "code",
   "execution_count": 29,
   "metadata": {},
   "outputs": [
    {
     "name": "stdout",
     "output_type": "stream",
     "text": [
      "Running cuda...\n",
      "Cuda time:  326589.227us\n"
     ]
    }
   ],
   "source": [
    "print(\"Running cuda...\")\n",
    "cuda_time, cuda_res = show_time(run_cuda,10)\n",
    "print(\"Cuda time:  {:.3f}us\".format(np.mean(cuda_time)))"
   ]
  },
  {
   "cell_type": "code",
   "execution_count": 30,
   "metadata": {},
   "outputs": [
    {
     "name": "stdout",
     "output_type": "stream",
     "text": [
      "Running torch cpu...\n",
      "Torch time:  276929.092us\n"
     ]
    }
   ],
   "source": [
    "print(\"Running torch cpu...\")\n",
    "torch_time, torch_res = show_time(run_torch_cpu,10)\n",
    "print(\"Torch time:  {:.3f}us\".format(np.mean(torch_time)))\n"
   ]
  },
  {
   "cell_type": "code",
   "execution_count": 31,
   "metadata": {},
   "outputs": [
    {
     "name": "stdout",
     "output_type": "stream",
     "text": [
      "Running torch gpu...\n",
      "Torch time:  331928.658us\n"
     ]
    }
   ],
   "source": [
    "print(\"Running torch gpu...\")\n",
    "torch_time, torch_res = show_time(run_torch_gpu,10)\n",
    "print(\"Torch time:  {:.3f}us\".format(np.mean(torch_time)))\n"
   ]
  },
  {
   "cell_type": "markdown",
   "metadata": {},
   "source": [
    "### Timing Conclusion: \n",
    "\n",
    "The amount of computation we make here does not justify the time spend on pushing data on/off the device. \n",
    "\n",
    "But our custom CUDA implemetation achieved similar level of performance as the pythorch GPU version"
   ]
  },
  {
   "cell_type": "code",
   "execution_count": 32,
   "metadata": {},
   "outputs": [],
   "source": [
    "X_train_tensor_norm=grayscaleimagenorm_cuda(X_train_tensor_raw)"
   ]
  },
  {
   "cell_type": "code",
   "execution_count": 33,
   "metadata": {},
   "outputs": [
    {
     "name": "stdout",
     "output_type": "stream",
     "text": [
      "X_train_tensor_raw: Shape: =torch.Size([60000, 784]), Max= 255.0, Min= 0.0\n",
      "X_train_tensor_norm: Shape: =torch.Size([60000, 784]), Max= 1.0, Min= -1.0\n"
     ]
    }
   ],
   "source": [
    "print(f'X_train_tensor_raw: Shape: ={X_train_tensor_raw.size()}, Max= {torch.max(X_train_tensor_raw)}, Min= {torch.min(X_train_tensor_raw)}')\n",
    "print(f'X_train_tensor_norm: Shape: ={X_train_tensor_norm.size()}, Max= {torch.max(X_train_tensor_norm)}, Min= {torch.min(X_train_tensor_norm)}')"
   ]
  },
  {
   "cell_type": "markdown",
   "metadata": {},
   "source": [
    "## Training NN using pytorch to recognize handwritten digits"
   ]
  },
  {
   "cell_type": "markdown",
   "metadata": {},
   "source": [
    "This is the end of using custom CUDA kernel for data preprocessing.\n",
    "In the following sessions of this notebook, we will train a NN using these proprocessed data.\n",
    "For simplicity, we hereby rename them to shorter name."
   ]
  },
  {
   "cell_type": "code",
   "execution_count": 34,
   "metadata": {},
   "outputs": [],
   "source": [
    "X_train_tensor=X_train_tensor_norm\n",
    "y_train_tensor=y_train_tensor_raw\n",
    "X_test_tensor=X_test_tensor_norm\n",
    "y_test_tensor=y_test_tensor_raw"
   ]
  },
  {
   "cell_type": "markdown",
   "metadata": {},
   "source": [
    "Hyperparam setting"
   ]
  },
  {
   "cell_type": "code",
   "execution_count": 35,
   "metadata": {},
   "outputs": [
    {
     "data": {
      "text/plain": [
       "<torch._C.Generator at 0x7f247074b950>"
      ]
     },
     "execution_count": 35,
     "metadata": {},
     "output_type": "execute_result"
    }
   ],
   "source": [
    "n_epochs = 3\n",
    "batch_size_train = 600\n",
    "batch_size_test = 100\n",
    "learning_rate = 0.01\n",
    "momentum = 0.5\n",
    "log_interval = 20\n",
    "\n",
    "random_seed = 1\n",
    "torch.backends.cudnn.enabled = False\n",
    "torch.manual_seed(random_seed)"
   ]
  },
  {
   "cell_type": "markdown",
   "metadata": {},
   "source": [
    "Use Pytorch's Dataset and Dataloader to manage things like minibatch"
   ]
  },
  {
   "cell_type": "code",
   "execution_count": 36,
   "metadata": {},
   "outputs": [],
   "source": [
    "from torch.utils.data import Dataset\n",
    "class CUSTOM_MINISTDataset(Dataset):\n",
    "    def __init__(self, data, label):\n",
    "      self.data=data\n",
    "      self.label=label\n",
    "    def __len__(self):\n",
    "      return len(self.data)\n",
    "\n",
    "    def __getitem__(self, idx):\n",
    "      curr_data =self.data[idx, :]\n",
    "      curr_label =self.label[idx]\n",
    "      if(type(curr_data) == torch.Tensor and type(curr_label) == torch.Tensor):\n",
    "        return {\n",
    "          \"data\": curr_data,\n",
    "          \"label\": curr_label,\n",
    "        }\n",
    "      else:\n",
    "        return {\n",
    "          \"data\": torch.tensor(curr_data,dtype=torch.float64),\n",
    "          \"label\": torch.tensor(curr_label,dtype=torch.uint8),\n",
    "        }"
   ]
  },
  {
   "cell_type": "code",
   "execution_count": 37,
   "metadata": {},
   "outputs": [],
   "source": [
    "custom_traingdataset=CUSTOM_MINISTDataset(data=X_train_tensor,label=y_train_tensor)\n",
    "custom_testdataset=CUSTOM_MINISTDataset(data=X_test_tensor,label=y_test_tensor)"
   ]
  },
  {
   "cell_type": "code",
   "execution_count": 40,
   "metadata": {},
   "outputs": [],
   "source": [
    "#?torch.utils.data.DataLoader"
   ]
  },
  {
   "cell_type": "code",
   "execution_count": 38,
   "metadata": {},
   "outputs": [],
   "source": [
    "from torch.utils.data import DataLoader\n",
    "train_loader = DataLoader(custom_traingdataset,batch_size = batch_size_train, shuffle=True,num_workers=0)"
   ]
  },
  {
   "cell_type": "code",
   "execution_count": 39,
   "metadata": {},
   "outputs": [],
   "source": [
    "test_loader = DataLoader(custom_testdataset,batch_size = batch_size_test, shuffle=True,num_workers=0)"
   ]
  },
  {
   "cell_type": "markdown",
   "metadata": {},
   "source": [
    "Build Neural Network in Pytorch"
   ]
  },
  {
   "cell_type": "code",
   "execution_count": 40,
   "metadata": {},
   "outputs": [],
   "source": [
    "from torch import nn\n",
    "import torch.optim as optim\n",
    "import torch.nn.functional as F\n",
    "import torch.optim as optim"
   ]
  },
  {
   "cell_type": "code",
   "execution_count": 41,
   "metadata": {},
   "outputs": [],
   "source": [
    "class NeuralNetwork(nn.Module):\n",
    "    def __init__(self):\n",
    "        super(NeuralNetwork, self).__init__()\n",
    "        self.flatten = nn.Flatten()\n",
    "        self.linear_relu_stack = nn.Sequential(\n",
    "            nn.Linear(28*28, 512),\n",
    "            nn.ReLU(),\n",
    "            nn.Linear(512, 512),\n",
    "            nn.ReLU(),\n",
    "            nn.Linear(512, 10),\n",
    "        )\n",
    "\n",
    "    def forward(self, x,apply_softmax=False):\n",
    "        x = self.flatten(x)\n",
    "        x = self.linear_relu_stack(x)\n",
    "        if apply_softmax:\n",
    "          x=F.softmax(x, dim=1)\n",
    "        return x"
   ]
  },
  {
   "cell_type": "code",
   "execution_count": 42,
   "metadata": {},
   "outputs": [],
   "source": [
    "network = NeuralNetwork()\n",
    "optimizer = optim.SGD(network.parameters(), lr=learning_rate,\n",
    "                      momentum=momentum)"
   ]
  },
  {
   "cell_type": "code",
   "execution_count": 43,
   "metadata": {},
   "outputs": [],
   "source": [
    "#https://discuss.pytorch.org/t/about-the-difference-between-none-and-sum-in-reduction-for-bceloss/53924\n",
    "mean_loss = nn.CrossEntropyLoss(reduction='mean')   \n",
    "sum_loss = nn.CrossEntropyLoss(reduction='sum')"
   ]
  },
  {
   "cell_type": "markdown",
   "metadata": {},
   "source": [
    "Training the Model"
   ]
  },
  {
   "cell_type": "code",
   "execution_count": 44,
   "metadata": {},
   "outputs": [],
   "source": [
    "train_losses = []\n",
    "train_counter = []\n",
    "test_losses = []\n",
    "test_counter = [i*len(train_loader.dataset) for i in range(n_epochs + 1)]"
   ]
  },
  {
   "cell_type": "code",
   "execution_count": 45,
   "metadata": {},
   "outputs": [],
   "source": [
    "def train(epoch):\n",
    "  network.train()\n",
    "  for batch_idx, sample  in enumerate(train_loader):\n",
    "    data=sample['data']\n",
    "    target=sample['label']\n",
    "    optimizer.zero_grad()\n",
    "    output = network(data)\n",
    "    loss = mean_loss(output, target)\n",
    "    loss.backward()\n",
    "    optimizer.step()\n",
    "    if batch_idx % log_interval == 0:\n",
    "      print('Train Epoch: {} [{}/{} ({:.0f}%)]\\tLoss: {:.6f}'.format(\n",
    "        epoch, batch_idx * len(data), len(train_loader.dataset),\n",
    "        100. * batch_idx / len(train_loader), loss.item()))\n",
    "      train_losses.append(loss.item())\n",
    "      train_counter.append(\n",
    "        (batch_idx*batch_size_train) + ((epoch-1)*len(train_loader.dataset)))\n",
    "      torch.save(network.state_dict(), './results/model.pth')\n",
    "      torch.save(optimizer.state_dict(), './results/optimizer.pth')"
   ]
  },
  {
   "cell_type": "code",
   "execution_count": 46,
   "metadata": {},
   "outputs": [],
   "source": [
    "def test():\n",
    "  network.eval()\n",
    "  test_loss = 0\n",
    "  correct = 0\n",
    "  with torch.no_grad():\n",
    "    for sample in test_loader:\n",
    "      data=sample['data']\n",
    "      target=sample['label']\n",
    "      output = network(data)\n",
    "      test_loss += sum_loss(output, target).item()\n",
    "      pred = output.data.max(1, keepdim=True)[1]\n",
    "      correct += pred.eq(target.data.view_as(pred)).sum()\n",
    "  test_loss /= len(test_loader.dataset)\n",
    "  test_losses.append(test_loss)\n",
    "  print('\\nTest set: Avg. loss: {:.4f}, Accuracy: {}/{} ({:.0f}%)\\n'.format(\n",
    "    test_loss, correct, len(test_loader.dataset),\n",
    "    100. * correct / len(test_loader.dataset)))"
   ]
  },
  {
   "cell_type": "code",
   "execution_count": 47,
   "metadata": {},
   "outputs": [
    {
     "name": "stdout",
     "output_type": "stream",
     "text": [
      "\n",
      "Test set: Avg. loss: 2.3166, Accuracy: 694/10000 (7%)\n",
      "\n"
     ]
    }
   ],
   "source": [
    "test()"
   ]
  },
  {
   "cell_type": "code",
   "execution_count": 48,
   "metadata": {},
   "outputs": [
    {
     "name": "stdout",
     "output_type": "stream",
     "text": [
      "Train Epoch: 1 [0/60000 (0%)]\tLoss: 2.322415\n",
      "Train Epoch: 1 [12000/60000 (20%)]\tLoss: 2.213693\n",
      "Train Epoch: 1 [24000/60000 (40%)]\tLoss: 2.088973\n",
      "Train Epoch: 1 [36000/60000 (60%)]\tLoss: 1.909328\n",
      "Train Epoch: 1 [48000/60000 (80%)]\tLoss: 1.688393\n",
      "\n",
      "Test set: Avg. loss: 1.4151, Accuracy: 7390/10000 (74%)\n",
      "\n",
      "Train Epoch: 2 [0/60000 (0%)]\tLoss: 1.460418\n",
      "Train Epoch: 2 [12000/60000 (20%)]\tLoss: 1.228157\n",
      "Train Epoch: 2 [24000/60000 (40%)]\tLoss: 0.989741\n",
      "Train Epoch: 2 [36000/60000 (60%)]\tLoss: 0.854296\n",
      "Train Epoch: 2 [48000/60000 (80%)]\tLoss: 0.760605\n",
      "\n",
      "Test set: Avg. loss: 0.6637, Accuracy: 8495/10000 (85%)\n",
      "\n",
      "Train Epoch: 3 [0/60000 (0%)]\tLoss: 0.704454\n",
      "Train Epoch: 3 [12000/60000 (20%)]\tLoss: 0.631328\n",
      "Train Epoch: 3 [24000/60000 (40%)]\tLoss: 0.596511\n",
      "Train Epoch: 3 [36000/60000 (60%)]\tLoss: 0.509396\n",
      "Train Epoch: 3 [48000/60000 (80%)]\tLoss: 0.521428\n",
      "\n",
      "Test set: Avg. loss: 0.4796, Accuracy: 8758/10000 (88%)\n",
      "\n"
     ]
    }
   ],
   "source": [
    "for epoch in range(1, n_epochs + 1):\n",
    "  train(epoch)\n",
    "  test()"
   ]
  },
  {
   "cell_type": "markdown",
   "metadata": {},
   "source": [
    "Evaluating the Model's Performance"
   ]
  },
  {
   "cell_type": "code",
   "execution_count": 49,
   "metadata": {},
   "outputs": [
    {
     "data": {
      "image/png": "[encoded data removed]",
      "text/plain": [
       "<Figure size 432x288 with 1 Axes>"
      ]
     },
     "execution_count": 49,
     "metadata": {},
     "output_type": "execute_result"
    },
    {
     "data": {
      "image/png": "[encoded data removed]",
      "text/plain": [
       "<Figure size 432x288 with 1 Axes>"
      ]
     },
     "metadata": {
      "needs_background": "light"
     },
     "output_type": "display_data"
    }
   ],
   "source": [
    "fig = plt.figure()\n",
    "plt.plot(train_counter, train_losses, color='blue')\n",
    "plt.scatter(test_counter, test_losses, color='red')\n",
    "plt.legend(['Train Loss', 'Test Loss'], loc='upper right')\n",
    "plt.xlabel('number of training examples seen')\n",
    "plt.ylabel('cross entropy loss')\n",
    "fig"
   ]
  },
  {
   "cell_type": "code",
   "execution_count": 50,
   "metadata": {},
   "outputs": [],
   "source": [
    "examples= enumerate(test_loader)\n",
    "batch_idx, sample = next(examples)"
   ]
  },
  {
   "cell_type": "code",
   "execution_count": 51,
   "metadata": {},
   "outputs": [
    {
     "data": {
      "text/plain": [
       "torch.Size([100, 784])"
      ]
     },
     "execution_count": 51,
     "metadata": {},
     "output_type": "execute_result"
    }
   ],
   "source": [
    "sample['data'].shape"
   ]
  },
  {
   "cell_type": "code",
   "execution_count": 52,
   "metadata": {},
   "outputs": [],
   "source": [
    "with torch.no_grad():\n",
    "  output = network(sample['data'])"
   ]
  },
  {
   "cell_type": "code",
   "execution_count": 53,
   "metadata": {},
   "outputs": [
    {
     "data": {
      "image/png": "[encoded data removed]",
      "text/plain": [
       "<Figure size 432x288 with 6 Axes>"
      ]
     },
     "execution_count": 53,
     "metadata": {},
     "output_type": "execute_result"
    },
    {
     "data": {
      "image/png": "[encoded data removed]",
      "text/plain": [
       "<Figure size 432x288 with 6 Axes>"
      ]
     },
     "metadata": {},
     "output_type": "display_data"
    }
   ],
   "source": [
    "fig = plt.figure()\n",
    "for i in range(6):\n",
    "  plt.subplot(2,3,i+1)\n",
    "  plt.tight_layout()\n",
    "  plt.imshow(torch.reshape(sample['data'][i],(28,28)), cmap='gray', interpolation='none')\n",
    "  title_obj=plt.title(\"Prediction: {}\".format(\n",
    "    output.data.max(1, keepdim=True)[1][i].item()))\n",
    "  plt.setp(title_obj, color='r') \n",
    "  plt.xticks([])\n",
    "  plt.yticks([])\n",
    "fig"
   ]
  },
  {
   "cell_type": "markdown",
   "metadata": {},
   "source": [
    "Continue Training from CheckPoints"
   ]
  },
  {
   "cell_type": "code",
   "execution_count": 54,
   "metadata": {},
   "outputs": [],
   "source": [
    "continued_network = NeuralNetwork()\n",
    "continued_optimizer = optim.SGD(network.parameters(), lr=learning_rate,\n",
    "                                momentum=momentum)"
   ]
  },
  {
   "cell_type": "code",
   "execution_count": 55,
   "metadata": {},
   "outputs": [],
   "source": [
    "network_state_dict = torch.load('./results/model.pth')\n",
    "continued_network.load_state_dict(network_state_dict)\n",
    "\n",
    "optimizer_state_dict = torch.load('./results/optimizer.pth')\n",
    "continued_optimizer.load_state_dict(optimizer_state_dict)"
   ]
  },
  {
   "cell_type": "code",
   "execution_count": 56,
   "metadata": {},
   "outputs": [
    {
     "name": "stdout",
     "output_type": "stream",
     "text": [
      "Train Epoch: 4 [0/60000 (0%)]\tLoss: 0.534390\n",
      "Train Epoch: 4 [12000/60000 (20%)]\tLoss: 0.505384\n",
      "Train Epoch: 4 [24000/60000 (40%)]\tLoss: 0.449246\n",
      "Train Epoch: 4 [36000/60000 (60%)]\tLoss: 0.412770\n",
      "Train Epoch: 4 [48000/60000 (80%)]\tLoss: 0.399655\n",
      "\n",
      "Test set: Avg. loss: 0.4093, Accuracy: 8870/10000 (89%)\n",
      "\n",
      "Train Epoch: 5 [0/60000 (0%)]\tLoss: 0.380324\n",
      "Train Epoch: 5 [12000/60000 (20%)]\tLoss: 0.400777\n",
      "Train Epoch: 5 [24000/60000 (40%)]\tLoss: 0.412764\n",
      "Train Epoch: 5 [36000/60000 (60%)]\tLoss: 0.373909\n",
      "Train Epoch: 5 [48000/60000 (80%)]\tLoss: 0.400338\n",
      "\n",
      "Test set: Avg. loss: 0.3732, Accuracy: 8943/10000 (89%)\n",
      "\n",
      "Train Epoch: 6 [0/60000 (0%)]\tLoss: 0.401716\n",
      "Train Epoch: 6 [12000/60000 (20%)]\tLoss: 0.435021\n",
      "Train Epoch: 6 [24000/60000 (40%)]\tLoss: 0.390530\n",
      "Train Epoch: 6 [36000/60000 (60%)]\tLoss: 0.341516\n",
      "Train Epoch: 6 [48000/60000 (80%)]\tLoss: 0.412198\n",
      "\n",
      "Test set: Avg. loss: 0.3473, Accuracy: 9014/10000 (90%)\n",
      "\n",
      "Train Epoch: 7 [0/60000 (0%)]\tLoss: 0.321503\n",
      "Train Epoch: 7 [12000/60000 (20%)]\tLoss: 0.375400\n",
      "Train Epoch: 7 [24000/60000 (40%)]\tLoss: 0.337869\n",
      "Train Epoch: 7 [36000/60000 (60%)]\tLoss: 0.288084\n",
      "Train Epoch: 7 [48000/60000 (80%)]\tLoss: 0.424499\n",
      "\n",
      "Test set: Avg. loss: 0.3324, Accuracy: 9060/10000 (91%)\n",
      "\n",
      "Train Epoch: 8 [0/60000 (0%)]\tLoss: 0.344008\n",
      "Train Epoch: 8 [12000/60000 (20%)]\tLoss: 0.335678\n",
      "Train Epoch: 8 [24000/60000 (40%)]\tLoss: 0.322001\n",
      "Train Epoch: 8 [36000/60000 (60%)]\tLoss: 0.323139\n",
      "Train Epoch: 8 [48000/60000 (80%)]\tLoss: 0.352614\n",
      "\n",
      "Test set: Avg. loss: 0.3188, Accuracy: 9083/10000 (91%)\n",
      "\n"
     ]
    }
   ],
   "source": [
    "for i in range(4,9):\n",
    "  test_counter.append(i*len(train_loader.dataset))\n",
    "  train(i)\n",
    "  test()"
   ]
  },
  {
   "cell_type": "code",
   "execution_count": 57,
   "metadata": {},
   "outputs": [
    {
     "data": {
      "image/png": "[encoded data removed]",
      "text/plain": [
       "<Figure size 432x288 with 1 Axes>"
      ]
     },
     "execution_count": 57,
     "metadata": {},
     "output_type": "execute_result"
    },
    {
     "data": {
      "image/png": "[encoded data removed]",
      "text/plain": [
       "<Figure size 432x288 with 1 Axes>"
      ]
     },
     "metadata": {
      "needs_background": "light"
     },
     "output_type": "display_data"
    }
   ],
   "source": [
    "fig = plt.figure()\n",
    "plt.plot(train_counter, train_losses, color='blue')\n",
    "plt.scatter(test_counter, test_losses, color='red')\n",
    "plt.legend(['Train Loss', 'Test Loss'], loc='upper right')\n",
    "plt.xlabel('number of training examples seen')\n",
    "plt.ylabel('cross entropy loss')\n",
    "fig\n"
   ]
  },
  {
   "cell_type": "markdown",
   "metadata": {},
   "source": [
    "# Summary"
   ]
  },
  {
   "cell_type": "markdown",
   "metadata": {},
   "source": [
    "Here, we reached the end of this project. \n",
    "As a summary, the following has been accumplished:\n",
    "1. Implement a custom CUDA kernel that normlaize the pixels of a raw gray image\n",
    "2. Implemented the host side caller that calls the kernel\n",
    "3. Used pytorch backend ATen library to interface with our custome C++/CUDA code\n",
    "4. Used pybind11 to create python bindings for our C++ code\n",
    "5. Used Just in Time compilation option for load our custome defined libary\n",
    "6. Performed image preprocessing by calling our custom CUDA module in python\n",
    "7. Did a timing comparison among pytorch CPU version, pytorch GPU version, and CUDA version called in pytorch\n",
    "8. Continued to train a Neural Network using pytorch based on the preprocessed data using our custom defined CUDA kernel"
   ]
  },
  {
   "cell_type": "markdown",
   "metadata": {},
   "source": [
    "## Future work\n",
    "\n",
    "With the infrastucture set up here, we could potentially do more interesting things using CUDA custom kernel.\n",
    "\n",
    "For example, use NPP image processing library to rotate each picture a little bit to generate synthetic data.\n",
    "\n",
    "Hint: A number 8 rotates by 3 degree is still a number 8."
   ]
  },
  {
   "cell_type": "markdown",
   "metadata": {},
   "source": [
    "## References:\n",
    "* [CUSTOM CUDA Example](https://github.com/godweiyang/NN-CUDA-Example) \n",
    "* [CUSTOM C++ AND CUDA EXTENSIONS](https://pytorch.org/tutorials/advanced/cpp_extension.html)\n",
    "* [MNIST Handwritten Digit Recognition in PyTorch](https://nextjournal.com/gkoehler/pytorch-mnist)\n",
    "* [Neural network in CUDA/C++](https://github.com/BobMcDear/Neural-Network-CUDA)"
   ]
  },
  {
   "cell_type": "markdown",
   "metadata": {},
   "source": []
  }
 ],
 "metadata": {
  "interpreter": {
   "hash": "ddc94ac2925e82ddfcf6396a3ba9388a9b97c3ce281bba45ffec54d9d2b043c6"
  },
  "kernelspec": {
   "display_name": "Python 3.9.12 ('EN605_617FinalProject')",
   "language": "python",
   "name": "python3"
  },
  "language_info": {
   "codemirror_mode": {
    "name": "ipython",
    "version": 3
   },
   "file_extension": ".py",
   "mimetype": "text/x-python",
   "name": "python",
   "nbconvert_exporter": "python",
   "pygments_lexer": "ipython3",
   "version": "3.9.12"
  },
  "orig_nbformat": 4
 },
 "nbformat": 4,
 "nbformat_minor": 2
}
